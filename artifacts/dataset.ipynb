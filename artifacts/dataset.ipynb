{
 "cells": [
  {
   "cell_type": "code",
   "execution_count": 1,
   "metadata": {},
   "outputs": [],
   "source": [
    "import pandas as pd"
   ]
  },
  {
   "cell_type": "code",
   "execution_count": null,
   "metadata": {},
   "outputs": [],
   "source": [
    "# File paths\n",
    "json_file = 'https://mcauleylab.ucsd.edu/public_datasets/gdrive/goodreads/goodreads_reviews_spoiler_raw.json.gz'\n",
    "csv_file = r'....path....\\goodreads_reviews_spoiler_raw_cleaned.csv'\n",
    "\n",
    "# Columns to remove\n",
    "columns_to_remove = [\n",
    "    \"date_added\", \"date_updated\", \"n_comments\", \"n_votes\",\n",
    "    \"read_at\", \"review_id\", \"started_at\"\n",
    "]\n",
    "\n",
    "try:\n",
    "    df = pd.read_json(json_file, lines=True, compression='gzip')\n",
    "except ValueError:\n",
    "    df = pd.read_json(json_file, compression='gzip')\n",
    "\n",
    "df = df.drop(columns=columns_to_remove, errors='ignore')\n",
    "\n",
    "df.to_csv(csv_file, index=False)\n",
    "\n",
    "print(f\"Done! Cleaned CSV saved at: {csv_file}\")"
   ]
  }
 ],
 "metadata": {
  "kernelspec": {
   "display_name": "env",
   "language": "python",
   "name": "python3"
  },
  "language_info": {
   "codemirror_mode": {
    "name": "ipython",
    "version": 3
   },
   "file_extension": ".py",
   "mimetype": "text/x-python",
   "name": "python",
   "nbconvert_exporter": "python",
   "pygments_lexer": "ipython3",
   "version": "3.13.5"
  },
  "orig_nbformat": 4
 },
 "nbformat": 4,
 "nbformat_minor": 2
}
